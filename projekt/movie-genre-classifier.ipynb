{
 "cells": [
  {
   "cell_type": "markdown",
   "metadata": {},
   "source": [
    "# Zu welchem Genre gehört das Filmposter\n",
    "\n",
    "Ablauf:\n",
    "\n",
    "1. Importieren von allen Bibliotheken\n",
    "2. Laden der Daten zum Trainieren der KI\n",
    "3. Herunterladen der Daten\n",
    "4. Datenbereinigung\n",
    "5. Input Pipeline aufbauen\n",
    "6. Ki Model bauen\n",
    "7. Model trainieren und evaluieren\n",
    "8. Exportieren & sichern des Models"
   ]
  },
  {
   "cell_type": "code",
   "execution_count": 8,
   "outputs": [],
   "source": [
    "import logging\n",
    "import os\n",
    "import warnings\n",
    "\n",
    "import matplotlib.pyplot as plt\n",
    "import matplotlib.style as style\n",
    "import numpy as np\n",
    "import pandas as pd\n",
    "import seaborn as sns\n",
    "import tensorflow as tf\n",
    "import tensorflow_hub as hub\n",
    "import shutil\n",
    "import multiprocessing\n",
    "import urllib.error\n",
    "import urllib.request\n",
    "\n",
    "from joblib import Parallel, delayed\n",
    "from time import time\n",
    "\n",
    "\n",
    "from datetime import datetime\n",
    "from keras.preprocessing import image\n",
    "from PIL import Image\n",
    "from sklearn.preprocessing import MultiLabelBinarizer\n",
    "from sklearn.model_selection import train_test_split\n",
    "from sklearn.calibration import calibration_curve\n",
    "from tensorflow.keras import layers\n",
    "\n",
    "from utils import *\n",
    "\n",
    "warnings.filterwarnings('ignore')\n",
    "logging.getLogger(\"tensorflow\").setLevel(logging.ERROR)"
   ],
   "metadata": {
    "collapsed": false,
    "pycharm": {
     "name": "#%%\n"
    }
   }
  },
  {
   "cell_type": "markdown",
   "source": [
    "## Laden der Daten"
   ],
   "metadata": {
    "collapsed": false,
    "pycharm": {
     "name": "#%% md\n"
    }
   }
  },
  {
   "cell_type": "code",
   "execution_count": 9,
   "outputs": [
    {
     "data": {
      "text/plain": "   imdbId                           Imdb Link  \\\n0  114709  http://www.imdb.com/title/tt114709   \n1  113497  http://www.imdb.com/title/tt113497   \n2  113228  http://www.imdb.com/title/tt113228   \n3  114885  http://www.imdb.com/title/tt114885   \n4  113041  http://www.imdb.com/title/tt113041   \n\n                                Title  IMDB Score                       Genre  \\\n0                    Toy Story (1995)         8.3  Animation|Adventure|Comedy   \n1                      Jumanji (1995)         6.9     Action|Adventure|Family   \n2             Grumpier Old Men (1995)         6.6              Comedy|Romance   \n3            Waiting to Exhale (1995)         5.7        Comedy|Drama|Romance   \n4  Father of the Bride Part II (1995)         5.9       Comedy|Family|Romance   \n\n                                              Poster  \n0  https://images-na.ssl-images-amazon.com/images...  \n1  https://images-na.ssl-images-amazon.com/images...  \n2  https://images-na.ssl-images-amazon.com/images...  \n3  https://images-na.ssl-images-amazon.com/images...  \n4  https://images-na.ssl-images-amazon.com/images...  ",
      "text/html": "<div>\n<style scoped>\n    .dataframe tbody tr th:only-of-type {\n        vertical-align: middle;\n    }\n\n    .dataframe tbody tr th {\n        vertical-align: top;\n    }\n\n    .dataframe thead th {\n        text-align: right;\n    }\n</style>\n<table border=\"1\" class=\"dataframe\">\n  <thead>\n    <tr style=\"text-align: right;\">\n      <th></th>\n      <th>imdbId</th>\n      <th>Imdb Link</th>\n      <th>Title</th>\n      <th>IMDB Score</th>\n      <th>Genre</th>\n      <th>Poster</th>\n    </tr>\n  </thead>\n  <tbody>\n    <tr>\n      <th>0</th>\n      <td>114709</td>\n      <td>http://www.imdb.com/title/tt114709</td>\n      <td>Toy Story (1995)</td>\n      <td>8.3</td>\n      <td>Animation|Adventure|Comedy</td>\n      <td>https://images-na.ssl-images-amazon.com/images...</td>\n    </tr>\n    <tr>\n      <th>1</th>\n      <td>113497</td>\n      <td>http://www.imdb.com/title/tt113497</td>\n      <td>Jumanji (1995)</td>\n      <td>6.9</td>\n      <td>Action|Adventure|Family</td>\n      <td>https://images-na.ssl-images-amazon.com/images...</td>\n    </tr>\n    <tr>\n      <th>2</th>\n      <td>113228</td>\n      <td>http://www.imdb.com/title/tt113228</td>\n      <td>Grumpier Old Men (1995)</td>\n      <td>6.6</td>\n      <td>Comedy|Romance</td>\n      <td>https://images-na.ssl-images-amazon.com/images...</td>\n    </tr>\n    <tr>\n      <th>3</th>\n      <td>114885</td>\n      <td>http://www.imdb.com/title/tt114885</td>\n      <td>Waiting to Exhale (1995)</td>\n      <td>5.7</td>\n      <td>Comedy|Drama|Romance</td>\n      <td>https://images-na.ssl-images-amazon.com/images...</td>\n    </tr>\n    <tr>\n      <th>4</th>\n      <td>113041</td>\n      <td>http://www.imdb.com/title/tt113041</td>\n      <td>Father of the Bride Part II (1995)</td>\n      <td>5.9</td>\n      <td>Comedy|Family|Romance</td>\n      <td>https://images-na.ssl-images-amazon.com/images...</td>\n    </tr>\n  </tbody>\n</table>\n</div>"
     },
     "execution_count": 9,
     "metadata": {},
     "output_type": "execute_result"
    }
   ],
   "source": [
    "movie_data = pd.read_csv(\"./data/MovieGenre.csv\",\n",
    "                          sep=\",\", encoding='unicode_escape', index_col=None)\n",
    "movie_data.head()"
   ],
   "metadata": {
    "collapsed": false,
    "pycharm": {
     "name": "#%%\n"
    }
   }
  },
  {
   "cell_type": "markdown",
   "source": [
    "## Datenbereinigung"
   ],
   "metadata": {
    "collapsed": false
   }
  },
  {
   "cell_type": "code",
   "execution_count": 10,
   "outputs": [],
   "source": [
    "# Entfernen von Null Werten\n",
    "movie_data.dropna(subset=['imdbId', 'Genre', 'Poster'], inplace=True)"
   ],
   "metadata": {
    "collapsed": false,
    "pycharm": {
     "name": "#%%\n"
    }
   }
  },
  {
   "cell_type": "markdown",
   "source": [
    "## Herunterladen der Daten (Parallel)"
   ],
   "metadata": {
    "collapsed": false
   }
  },
  {
   "cell_type": "code",
   "execution_count": null,
   "outputs": [
    {
     "name": "stdout",
     "output_type": "stream",
     "text": [
      "Created new directory './data/movie-posters'\n",
      "\n",
      "Downloading...\n"
     ]
    }
   ],
   "source": [
    "def download_parallel(movies, image_dir):\n",
    "    # Create list of filenames\n",
    "    filenames = movies['imdbId'].apply(lambda imbdId : os.path.join(image_dir, str(imbdId)+'.jpg'))\n",
    "    # Create list of image urls\n",
    "    urls = movies['Poster']\n",
    "\n",
    "    # Create destination directory\n",
    "    if os.path.exists(image_dir):\n",
    "        print(\"Directory '{}' already exists and will be deleted.\".format(image_dir))\n",
    "        shutil.rmtree(image_dir)\n",
    "    print(\"Created new directory '{}'\".format(image_dir))\n",
    "    os.makedirs(image_dir)\n",
    "\n",
    "    # Define function to download one single image\n",
    "    def download_image(url, filename):\n",
    "        try:\n",
    "            urllib.request.urlretrieve(url, filename)\n",
    "            return 0\n",
    "        except:\n",
    "            return os.path.basename(filename).split('.')[0]\n",
    "\n",
    "    # Download images in parallel\n",
    "    start = time()\n",
    "    print(\"\\nDownloading...\")\n",
    "    num_cores = multiprocessing.cpu_count()\n",
    "    ko_list = Parallel(n_jobs=num_cores)(delayed(download_image)(u, f) for f, u in zip(filenames, urls))\n",
    "\n",
    "    print(\"\\nDownload in parallel mode took %d seconds.\" %(time()-start))\n",
    "    print(\"Success:\", len([i for i in ko_list if i==0]))\n",
    "    print(\"Errors:\", len([i for i in ko_list if i!=0]))\n",
    "\n",
    "    # Remove not downloaded posters from the dataframe\n",
    "    ko_index = movies[movies['imdbId'].isin(ko_list)].index\n",
    "    movies = movies.drop(ko_index)\n",
    "\n",
    "    return movies\n",
    "\n",
    "\n",
    "destination = './data/movie-posters'\n",
    "movie_data = download_parallel(movie_data, destination)\n",
    "\n",
    "munge_dir = \"./data\"\n",
    "if not os.path.exists(munge_dir):\n",
    "    os.makedirs(munge_dir)\n",
    "movie_data.to_csv(os.path.join(munge_dir, \"movies.csv\"), index=False)\n",
    "\n"
   ],
   "metadata": {
    "collapsed": false,
    "pycharm": {
     "name": "#%%\n",
     "is_executing": true
    }
   }
  },
  {
   "cell_type": "code",
   "execution_count": 1,
   "metadata": {},
   "outputs": [
    {
     "data": {
      "text/plain": "   imdbId                           Imdb Link                     Title  \\\n0  114709  http://www.imdb.com/title/tt114709          Toy Story (1995)   \n1  113497  http://www.imdb.com/title/tt113497            Jumanji (1995)   \n2  113228  http://www.imdb.com/title/tt113228   Grumpier Old Men (1995)   \n3  114885  http://www.imdb.com/title/tt114885  Waiting to Exhale (1995)   \n\n   IMDB Score                           Genre  \\\n0         8.3  [Animation, Adventure, Comedy]   \n1         6.9     [Action, Adventure, Family]   \n2         6.6               [Comedy, Romance]   \n3         5.7        [Comedy, Drama, Romance]   \n\n                                              Poster  \n0  https://images-na.ssl-images-amazon.com/images...  \n1  https://images-na.ssl-images-amazon.com/images...  \n2  https://images-na.ssl-images-amazon.com/images...  \n3  https://images-na.ssl-images-amazon.com/images...  ",
      "text/html": "<div>\n<style scoped>\n    .dataframe tbody tr th:only-of-type {\n        vertical-align: middle;\n    }\n\n    .dataframe tbody tr th {\n        vertical-align: top;\n    }\n\n    .dataframe thead th {\n        text-align: right;\n    }\n</style>\n<table border=\"1\" class=\"dataframe\">\n  <thead>\n    <tr style=\"text-align: right;\">\n      <th></th>\n      <th>imdbId</th>\n      <th>Imdb Link</th>\n      <th>Title</th>\n      <th>IMDB Score</th>\n      <th>Genre</th>\n      <th>Poster</th>\n    </tr>\n  </thead>\n  <tbody>\n    <tr>\n      <th>0</th>\n      <td>114709</td>\n      <td>http://www.imdb.com/title/tt114709</td>\n      <td>Toy Story (1995)</td>\n      <td>8.3</td>\n      <td>[Animation, Adventure, Comedy]</td>\n      <td>https://images-na.ssl-images-amazon.com/images...</td>\n    </tr>\n    <tr>\n      <th>1</th>\n      <td>113497</td>\n      <td>http://www.imdb.com/title/tt113497</td>\n      <td>Jumanji (1995)</td>\n      <td>6.9</td>\n      <td>[Action, Adventure, Family]</td>\n      <td>https://images-na.ssl-images-amazon.com/images...</td>\n    </tr>\n    <tr>\n      <th>2</th>\n      <td>113228</td>\n      <td>http://www.imdb.com/title/tt113228</td>\n      <td>Grumpier Old Men (1995)</td>\n      <td>6.6</td>\n      <td>[Comedy, Romance]</td>\n      <td>https://images-na.ssl-images-amazon.com/images...</td>\n    </tr>\n    <tr>\n      <th>3</th>\n      <td>114885</td>\n      <td>http://www.imdb.com/title/tt114885</td>\n      <td>Waiting to Exhale (1995)</td>\n      <td>5.7</td>\n      <td>[Comedy, Drama, Romance]</td>\n      <td>https://images-na.ssl-images-amazon.com/images...</td>\n    </tr>\n  </tbody>\n</table>\n</div>"
     },
     "metadata": {},
     "output_type": "display_data"
    },
    {
     "data": {
      "text/plain": "imdbId          int64\nImdb Link      object\nTitle          object\nIMDB Score    float64\nGenre          object\nPoster         object\ndtype: object"
     },
     "metadata": {},
     "output_type": "display_data"
    }
   ],
   "source": [
    "import pandas as pd\n",
    "import numpy as np\n",
    "import matplotlib.pyplot as plt\n",
    "movie_genre = pd.read_csv(\"./data/MovieGenre.csv\",\n",
    "                          sep=\",\", encoding='unicode_escape', index_col=None)\n",
    "movie_genre.dropna(subset=['Genre','imdbId'], inplace=True)\n",
    "movie_genre[\"Genre\"] = movie_genre[\"Genre\"].str.split(\"|\")\n",
    "display(movie_genre.head(4))\n",
    "display(movie_genre.dtypes)\n",
    "poster_urls = movie_genre['Poster']\n",
    "\n"
   ]
  },
  {
   "cell_type": "markdown",
   "metadata": {},
   "source": [
    "Get all existing genres as list"
   ]
  },
  {
   "cell_type": "code",
   "execution_count": 3,
   "metadata": {
    "collapsed": false,
    "pycharm": {
     "name": "#%%\n"
    }
   },
   "outputs": [
    {
     "data": {
      "text/plain": "['Film-Noir',\n 'Comedy',\n 'Biography',\n 'Romance',\n 'News',\n 'Reality-TV',\n 'History',\n 'Sci-Fi',\n 'Action',\n 'Fantasy',\n 'War',\n 'Music',\n 'Horror',\n 'Talk-Show',\n 'Western',\n 'Adventure',\n 'Crime',\n 'Adult',\n 'Game-Show',\n 'Documentary',\n 'Thriller',\n 'Family',\n 'Drama',\n 'Musical',\n 'Sport',\n 'Mystery',\n 'Short',\n 'Animation']"
     },
     "execution_count": 3,
     "metadata": {},
     "output_type": "execute_result"
    }
   ],
   "source": [
    "def flatten(listToFlatten):\n",
    "    return [item for sublist in listToFlatten for item in sublist]\n",
    "\n",
    "genres = movie_genre[\"Genre\"].array.tolist()\n",
    "distinct_genres = list(set(flatten(genres)))\n",
    "distinct_genres"
   ]
  },
  {
   "cell_type": "markdown",
   "metadata": {
    "collapsed": false
   },
   "source": [
    "Load Sample Images"
   ]
  },
  {
   "cell_type": "code",
   "execution_count": 4,
   "metadata": {},
   "outputs": [
    {
     "name": "stdout",
     "output_type": "stream",
     "text": [
      "(80, 54, 3) 1018\n"
     ]
    }
   ],
   "source": [
    "import os\n",
    "import cv2\n",
    "samples_folder = \"./data/SampleMoviePosters\"\n",
    "files = os.listdir(samples_folder)\n",
    "sample_df = pd.DataFrame(columns=[\"imdbId\", \"img\"])\n",
    "sample_df.set_index(\"imdbId\", inplace=True)\n",
    "for file in files:\n",
    "    id = int(file.replace(\".jpg\", \"\"))\n",
    "    img = cv2.imread(os.path.join(samples_folder, file))\n",
    "    scale_percent = 30  # percent of original size\n",
    "    width = int(img.shape[1] * scale_percent / 100)\n",
    "    height = int(img.shape[0] * scale_percent / 100)\n",
    "    dim = (width, height)\n",
    "    resized = cv2.resize(img, dim, interpolation=cv2.INTER_AREA)\n",
    "    sample_df.loc[id, \"img\"] = resized\n",
    "sample_df = pd.merge(sample_df, movie_genre,\n",
    "                     left_index=True, right_on=\"imdbId\")\n",
    "sample_images = []\n",
    "sample_labels = []\n",
    "for i in sample_df.iloc():\n",
    "    sample_images.append(i[\"img\"])\n",
    "    sample_labels.append(i[\"Genre\"])\n",
    "print(sample_images[0].shape, len(sample_labels))\n"
   ]
  },
  {
   "cell_type": "markdown",
   "metadata": {},
   "source": [
    "Download posters"
   ]
  },
  {
   "cell_type": "code",
   "execution_count": 2,
   "metadata": {},
   "outputs": [],
   "source": [
    "import os\n",
    "import urllib\n",
    "images_path = \"./data/posters/\"\n",
    "mkdir_cmd = \"mkdir -p \" + images_path\n",
    "os.system(mkdir_cmd)\n",
    "failed_downloads = []\n",
    "for poster in poster_urls.itertuples():\n",
    "    file_name = str(poster.imdbId) + \".jpg\"\n",
    "    if os.path.isfile(images_path + file_name):\n",
    "        continue\n",
    "    try:\n",
    "        resource = urllib.request.urlretrieve(\n",
    "            poster.Poster, images_path + file_name)\n",
    "    except:\n",
    "        failed_downloads.append(str(poster.Poster))\n",
    "        continue\n",
    "print(\"Failed downloads: \" + str(failed_downloads))\n",
    "if len(failed_downloads) == 0:\n",
    "    print(\"All images downloaded successfully\")\n"
   ]
  },
  {
   "cell_type": "code",
   "execution_count": 5,
   "metadata": {},
   "outputs": [],
   "source": [
    "def get_encoding_for_genre(genre):\n",
    "    # if is array, assume it is a list of genres\n",
    "    if isinstance(genre, list):\n",
    "        return [distinct_genres.index(g) for g in genre]\n",
    "    return distinct_genres.index(genre)\n",
    "\n",
    "\n",
    "def get_genre_for_encoding(encoding):\n",
    "    return distinct_genres[encoding]\n"
   ]
  },
  {
   "cell_type": "code",
   "execution_count": 6,
   "metadata": {},
   "outputs": [
    {
     "data": {
      "text/plain": "<Figure size 432x288 with 1 Axes>",
      "image/png": "[encoded data removed]"
     },
     "metadata": {},
     "output_type": "display_data"
    }
   ],
   "source": [
    "x = sample_images\n",
    "y = sample_labels\n",
    "\n",
    "plt.xticks([])\n",
    "plt.yticks([])\n",
    "plt.grid(False)\n",
    "plt.imshow(x[0])\n",
    "plt.xlabel(y[0], color=\"white\")\n",
    "plt.show()\n",
    "\n",
    "# encode genre list \n",
    "y_encoded = [get_encoding_for_genre(genre) for genre in y]"
   ]
  },
  {
   "cell_type": "code",
   "execution_count": 7,
   "metadata": {},
   "outputs": [
    {
     "name": "stderr",
     "output_type": "stream",
     "text": [
      "2022-05-25 19:17:44.447491: I tensorflow/core/platform/cpu_feature_guard.cc:193] This TensorFlow binary is optimized with oneAPI Deep Neural Network Library (oneDNN) to use the following CPU instructions in performance-critical operations:  AVX2 FMA\n",
      "To enable them in other operations, rebuild TensorFlow with the appropriate compiler flags.\n"
     ]
    },
    {
     "ename": "ValueError",
     "evalue": "Failed to find data adapter that can handle input: (<class 'list'> containing values of types {\"<class 'numpy.ndarray'>\"}), (<class 'list'> containing values of types {'(<class \\'list\\'> containing values of types {\"<class \\'int\\'>\"})'})",
     "output_type": "error",
     "traceback": [
      "\u001B[0;31m---------------------------------------------------------------------------\u001B[0m",
      "\u001B[0;31mValueError\u001B[0m                                Traceback (most recent call last)",
      "Input \u001B[0;32mIn [7]\u001B[0m, in \u001B[0;36m<cell line: 22>\u001B[0;34m()\u001B[0m\n\u001B[1;32m      9\u001B[0m model \u001B[38;5;241m=\u001B[39m tf\u001B[38;5;241m.\u001B[39mkeras\u001B[38;5;241m.\u001B[39mmodels\u001B[38;5;241m.\u001B[39mSequential([\n\u001B[1;32m     10\u001B[0m     tf\u001B[38;5;241m.\u001B[39mkeras\u001B[38;5;241m.\u001B[39mlayers\u001B[38;5;241m.\u001B[39mConv2D(\u001B[38;5;241m16\u001B[39m, (\u001B[38;5;241m3\u001B[39m, \u001B[38;5;241m3\u001B[39m), activation\u001B[38;5;241m=\u001B[39m\u001B[38;5;124m'\u001B[39m\u001B[38;5;124mrelu\u001B[39m\u001B[38;5;124m'\u001B[39m,\n\u001B[1;32m     11\u001B[0m                            input_shape\u001B[38;5;241m=\u001B[39mx_train[\u001B[38;5;241m0\u001B[39m]\u001B[38;5;241m.\u001B[39mshape),\n\u001B[0;32m   (...)\u001B[0m\n\u001B[1;32m     15\u001B[0m     tf\u001B[38;5;241m.\u001B[39mkeras\u001B[38;5;241m.\u001B[39mlayers\u001B[38;5;241m.\u001B[39mDense(\u001B[38;5;28mlen\u001B[39m(distinct_genres), activation\u001B[38;5;241m=\u001B[39m\u001B[38;5;124m'\u001B[39m\u001B[38;5;124msigmoid\u001B[39m\u001B[38;5;124m'\u001B[39m)\n\u001B[1;32m     16\u001B[0m ])\n\u001B[1;32m     18\u001B[0m model\u001B[38;5;241m.\u001B[39mcompile(optimizer\u001B[38;5;241m=\u001B[39m\u001B[38;5;124m'\u001B[39m\u001B[38;5;124madam\u001B[39m\u001B[38;5;124m'\u001B[39m,\n\u001B[1;32m     19\u001B[0m               loss\u001B[38;5;241m=\u001B[39m\u001B[38;5;124m'\u001B[39m\u001B[38;5;124msparse_categorical_crossentropy\u001B[39m\u001B[38;5;124m'\u001B[39m,\n\u001B[1;32m     20\u001B[0m               metrics\u001B[38;5;241m=\u001B[39m[\u001B[38;5;124m'\u001B[39m\u001B[38;5;124maccuracy\u001B[39m\u001B[38;5;124m'\u001B[39m])\n\u001B[0;32m---> 22\u001B[0m \u001B[43mmodel\u001B[49m\u001B[38;5;241;43m.\u001B[39;49m\u001B[43mfit\u001B[49m\u001B[43m(\u001B[49m\u001B[43mx_train\u001B[49m\u001B[43m,\u001B[49m\u001B[43m \u001B[49m\u001B[43my_train\u001B[49m\u001B[43m,\u001B[49m\u001B[43m \u001B[49m\u001B[43mepochs\u001B[49m\u001B[38;5;241;43m=\u001B[39;49m\u001B[38;5;241;43m5\u001B[39;49m\u001B[43m)\u001B[49m\n\u001B[1;32m     23\u001B[0m model\u001B[38;5;241m.\u001B[39mevaluate(x_test, y_test)\n",
      "File \u001B[0;32m/usr/local/lib/python3.9/site-packages/keras/utils/traceback_utils.py:67\u001B[0m, in \u001B[0;36mfilter_traceback.<locals>.error_handler\u001B[0;34m(*args, **kwargs)\u001B[0m\n\u001B[1;32m     65\u001B[0m \u001B[38;5;28;01mexcept\u001B[39;00m \u001B[38;5;167;01mException\u001B[39;00m \u001B[38;5;28;01mas\u001B[39;00m e:  \u001B[38;5;66;03m# pylint: disable=broad-except\u001B[39;00m\n\u001B[1;32m     66\u001B[0m   filtered_tb \u001B[38;5;241m=\u001B[39m _process_traceback_frames(e\u001B[38;5;241m.\u001B[39m__traceback__)\n\u001B[0;32m---> 67\u001B[0m   \u001B[38;5;28;01mraise\u001B[39;00m e\u001B[38;5;241m.\u001B[39mwith_traceback(filtered_tb) \u001B[38;5;28;01mfrom\u001B[39;00m \u001B[38;5;28mNone\u001B[39m\n\u001B[1;32m     68\u001B[0m \u001B[38;5;28;01mfinally\u001B[39;00m:\n\u001B[1;32m     69\u001B[0m   \u001B[38;5;28;01mdel\u001B[39;00m filtered_tb\n",
      "File \u001B[0;32m/usr/local/lib/python3.9/site-packages/keras/engine/data_adapter.py:985\u001B[0m, in \u001B[0;36mselect_data_adapter\u001B[0;34m(x, y)\u001B[0m\n\u001B[1;32m    982\u001B[0m adapter_cls \u001B[38;5;241m=\u001B[39m [\u001B[38;5;28mcls\u001B[39m \u001B[38;5;28;01mfor\u001B[39;00m \u001B[38;5;28mcls\u001B[39m \u001B[38;5;129;01min\u001B[39;00m ALL_ADAPTER_CLS \u001B[38;5;28;01mif\u001B[39;00m \u001B[38;5;28mcls\u001B[39m\u001B[38;5;241m.\u001B[39mcan_handle(x, y)]\n\u001B[1;32m    983\u001B[0m \u001B[38;5;28;01mif\u001B[39;00m \u001B[38;5;129;01mnot\u001B[39;00m adapter_cls:\n\u001B[1;32m    984\u001B[0m   \u001B[38;5;66;03m# TODO(scottzhu): This should be a less implementation-specific error.\u001B[39;00m\n\u001B[0;32m--> 985\u001B[0m   \u001B[38;5;28;01mraise\u001B[39;00m \u001B[38;5;167;01mValueError\u001B[39;00m(\n\u001B[1;32m    986\u001B[0m       \u001B[38;5;124m\"\u001B[39m\u001B[38;5;124mFailed to find data adapter that can handle \u001B[39m\u001B[38;5;124m\"\u001B[39m\n\u001B[1;32m    987\u001B[0m       \u001B[38;5;124m\"\u001B[39m\u001B[38;5;124minput: \u001B[39m\u001B[38;5;132;01m{}\u001B[39;00m\u001B[38;5;124m, \u001B[39m\u001B[38;5;132;01m{}\u001B[39;00m\u001B[38;5;124m\"\u001B[39m\u001B[38;5;241m.\u001B[39mformat(\n\u001B[1;32m    988\u001B[0m           _type_name(x), _type_name(y)))\n\u001B[1;32m    989\u001B[0m \u001B[38;5;28;01melif\u001B[39;00m \u001B[38;5;28mlen\u001B[39m(adapter_cls) \u001B[38;5;241m>\u001B[39m \u001B[38;5;241m1\u001B[39m:\n\u001B[1;32m    990\u001B[0m   \u001B[38;5;28;01mraise\u001B[39;00m \u001B[38;5;167;01mRuntimeError\u001B[39;00m(\n\u001B[1;32m    991\u001B[0m       \u001B[38;5;124m\"\u001B[39m\u001B[38;5;124mData adapters should be mutually exclusive for \u001B[39m\u001B[38;5;124m\"\u001B[39m\n\u001B[1;32m    992\u001B[0m       \u001B[38;5;124m\"\u001B[39m\u001B[38;5;124mhandling inputs. Found multiple adapters \u001B[39m\u001B[38;5;132;01m{}\u001B[39;00m\u001B[38;5;124m to handle \u001B[39m\u001B[38;5;124m\"\u001B[39m\n\u001B[1;32m    993\u001B[0m       \u001B[38;5;124m\"\u001B[39m\u001B[38;5;124minput: \u001B[39m\u001B[38;5;132;01m{}\u001B[39;00m\u001B[38;5;124m, \u001B[39m\u001B[38;5;132;01m{}\u001B[39;00m\u001B[38;5;124m\"\u001B[39m\u001B[38;5;241m.\u001B[39mformat(\n\u001B[1;32m    994\u001B[0m           adapter_cls, _type_name(x), _type_name(y)))\n",
      "\u001B[0;31mValueError\u001B[0m: Failed to find data adapter that can handle input: (<class 'list'> containing values of types {\"<class 'numpy.ndarray'>\"}), (<class 'list'> containing values of types {'(<class \\'list\\'> containing values of types {\"<class \\'int\\'>\"})'})"
     ]
    }
   ],
   "source": [
    "import tensorflow as tf\n",
    "from sklearn.model_selection import train_test_split\n",
    "x = x\n",
    "y = y_encoded\n",
    "\n",
    "x_train, x_test, y_train, y_test = train_test_split(\n",
    "    x, y, test_size=0.2, random_state=42)\n",
    "\n",
    "model = tf.keras.models.Sequential([\n",
    "    tf.keras.layers.Conv2D(16, (3, 3), activation='relu',\n",
    "                           input_shape=x_train[0].shape),\n",
    "    tf.keras.layers.Flatten(),\n",
    "    tf.keras.layers.Dense(128, activation='relu'),\n",
    "    tf.keras.layers.Dropout(0.2),\n",
    "    tf.keras.layers.Dense(len(distinct_genres), activation='sigmoid')\n",
    "])\n",
    "\n",
    "model.compile(optimizer='adam',\n",
    "              loss='sparse_categorical_crossentropy',\n",
    "              metrics=['accuracy'])\n",
    "\n",
    "model.fit(x_train, y_train, epochs=5)\n",
    "model.evaluate(x_test, y_test)\n"
   ]
  },
  {
   "cell_type": "markdown",
   "metadata": {},
   "source": [
    "Persist Model"
   ]
  },
  {
   "cell_type": "code",
   "execution_count": 25,
   "metadata": {},
   "outputs": [
    {
     "name": "stdout",
     "output_type": "stream",
     "text": [
      "INFO:tensorflow:Assets written to: ./data/model/assets\n"
     ]
    }
   ],
   "source": [
    "model.save(\"./data/model\")"
   ]
  },
  {
   "cell_type": "markdown",
   "metadata": {},
   "source": [
    "Load Model"
   ]
  },
  {
   "cell_type": "code",
   "execution_count": 27,
   "metadata": {},
   "outputs": [
    {
     "name": "stdout",
     "output_type": "stream",
     "text": [
      "Model: \"sequential\"\n",
      "_________________________________________________________________\n",
      " Layer (type)                Output Shape              Param #   \n",
      "=================================================================\n",
      " flatten (Flatten)           (None, 784)               0         \n",
      "                                                                 \n",
      " dense (Dense)               (None, 128)               100480    \n",
      "                                                                 \n",
      " dropout (Dropout)           (None, 128)               0         \n",
      "                                                                 \n",
      " dense_1 (Dense)             (None, 10)                1290      \n",
      "                                                                 \n",
      "=================================================================\n",
      "Total params: 101,770\n",
      "Trainable params: 101,770\n",
      "Non-trainable params: 0\n",
      "_________________________________________________________________\n"
     ]
    }
   ],
   "source": [
    "model = tf.keras.models.load_model('./data/model')"
   ]
  },
  {
   "cell_type": "code",
   "execution_count": null,
   "metadata": {},
   "outputs": [],
   "source": []
  }
 ],
 "metadata": {
  "interpreter": {
   "hash": "e535dff822bbfad958fc501bc24b0904ebfa4afeaf590caddba64e3bf49731e3"
  },
  "kernelspec": {
   "display_name": "Python 3.8.10 ('env': venv)",
   "language": "python",
   "name": "python3"
  },
  "language_info": {
   "codemirror_mode": {
    "name": "ipython",
    "version": 3
   },
   "file_extension": ".py",
   "mimetype": "text/x-python",
   "name": "python",
   "nbconvert_exporter": "python",
   "pygments_lexer": "ipython3",
   "version": "3.8.10"
  },
  "orig_nbformat": 4
 },
 "nbformat": 4,
 "nbformat_minor": 2
}