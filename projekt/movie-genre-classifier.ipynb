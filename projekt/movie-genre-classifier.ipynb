{
 "cells": [
  {
   "cell_type": "markdown",
   "metadata": {},
   "source": [
    "Import Genre data from CSV"
   ]
  },
  {
   "cell_type": "code",
   "execution_count": 1,
   "metadata": {},
   "outputs": [
    {
     "data": {
      "text/html": [
       "<div>\n",
       "<style scoped>\n",
       "    .dataframe tbody tr th:only-of-type {\n",
       "        vertical-align: middle;\n",
       "    }\n",
       "\n",
       "    .dataframe tbody tr th {\n",
       "        vertical-align: top;\n",
       "    }\n",
       "\n",
       "    .dataframe thead th {\n",
       "        text-align: right;\n",
       "    }\n",
       "</style>\n",
       "<table border=\"1\" class=\"dataframe\">\n",
       "  <thead>\n",
       "    <tr style=\"text-align: right;\">\n",
       "      <th></th>\n",
       "      <th>Imdb Link</th>\n",
       "      <th>Title</th>\n",
       "      <th>IMDB Score</th>\n",
       "      <th>Genre</th>\n",
       "      <th>Poster</th>\n",
       "    </tr>\n",
       "    <tr>\n",
       "      <th>imdbId</th>\n",
       "      <th></th>\n",
       "      <th></th>\n",
       "      <th></th>\n",
       "      <th></th>\n",
       "      <th></th>\n",
       "    </tr>\n",
       "  </thead>\n",
       "  <tbody>\n",
       "    <tr>\n",
       "      <th>114709</th>\n",
       "      <td>http://www.imdb.com/title/tt114709</td>\n",
       "      <td>Toy Story (1995)</td>\n",
       "      <td>8.3</td>\n",
       "      <td>Animation|Adventure|Comedy</td>\n",
       "      <td>https://images-na.ssl-images-amazon.com/images...</td>\n",
       "    </tr>\n",
       "    <tr>\n",
       "      <th>113497</th>\n",
       "      <td>http://www.imdb.com/title/tt113497</td>\n",
       "      <td>Jumanji (1995)</td>\n",
       "      <td>6.9</td>\n",
       "      <td>Action|Adventure|Family</td>\n",
       "      <td>https://images-na.ssl-images-amazon.com/images...</td>\n",
       "    </tr>\n",
       "    <tr>\n",
       "      <th>113228</th>\n",
       "      <td>http://www.imdb.com/title/tt113228</td>\n",
       "      <td>Grumpier Old Men (1995)</td>\n",
       "      <td>6.6</td>\n",
       "      <td>Comedy|Romance</td>\n",
       "      <td>https://images-na.ssl-images-amazon.com/images...</td>\n",
       "    </tr>\n",
       "    <tr>\n",
       "      <th>114885</th>\n",
       "      <td>http://www.imdb.com/title/tt114885</td>\n",
       "      <td>Waiting to Exhale (1995)</td>\n",
       "      <td>5.7</td>\n",
       "      <td>Comedy|Drama|Romance</td>\n",
       "      <td>https://images-na.ssl-images-amazon.com/images...</td>\n",
       "    </tr>\n",
       "    <tr>\n",
       "      <th>113041</th>\n",
       "      <td>http://www.imdb.com/title/tt113041</td>\n",
       "      <td>Father of the Bride Part II (1995)</td>\n",
       "      <td>5.9</td>\n",
       "      <td>Comedy|Family|Romance</td>\n",
       "      <td>https://images-na.ssl-images-amazon.com/images...</td>\n",
       "    </tr>\n",
       "  </tbody>\n",
       "</table>\n",
       "</div>"
      ],
      "text/plain": [
       "                                 Imdb Link  \\\n",
       "imdbId                                       \n",
       "114709  http://www.imdb.com/title/tt114709   \n",
       "113497  http://www.imdb.com/title/tt113497   \n",
       "113228  http://www.imdb.com/title/tt113228   \n",
       "114885  http://www.imdb.com/title/tt114885   \n",
       "113041  http://www.imdb.com/title/tt113041   \n",
       "\n",
       "                                     Title  IMDB Score  \\\n",
       "imdbId                                                   \n",
       "114709                    Toy Story (1995)         8.3   \n",
       "113497                      Jumanji (1995)         6.9   \n",
       "113228             Grumpier Old Men (1995)         6.6   \n",
       "114885            Waiting to Exhale (1995)         5.7   \n",
       "113041  Father of the Bride Part II (1995)         5.9   \n",
       "\n",
       "                             Genre  \\\n",
       "imdbId                               \n",
       "114709  Animation|Adventure|Comedy   \n",
       "113497     Action|Adventure|Family   \n",
       "113228              Comedy|Romance   \n",
       "114885        Comedy|Drama|Romance   \n",
       "113041       Comedy|Family|Romance   \n",
       "\n",
       "                                                   Poster  \n",
       "imdbId                                                     \n",
       "114709  https://images-na.ssl-images-amazon.com/images...  \n",
       "113497  https://images-na.ssl-images-amazon.com/images...  \n",
       "113228  https://images-na.ssl-images-amazon.com/images...  \n",
       "114885  https://images-na.ssl-images-amazon.com/images...  \n",
       "113041  https://images-na.ssl-images-amazon.com/images...  "
      ]
     },
     "metadata": {},
     "output_type": "display_data"
    },
    {
     "data": {
      "text/plain": [
       "Imdb Link      object\n",
       "Title          object\n",
       "IMDB Score    float64\n",
       "Genre          object\n",
       "Poster         object\n",
       "dtype: object"
      ]
     },
     "metadata": {},
     "output_type": "display_data"
    }
   ],
   "source": [
    "import pandas as pd\n",
    "movie_genre = pd.read_csv(\"./data/MovieGenre.csv\",\n",
    "                          sep=\",\", encoding='unicode_escape', index_col=0)\n",
    "display(movie_genre.head())\n",
    "display(movie_genre.dtypes)\n",
    "poster_urls = movie_genre['Poster']\n"
   ]
  },
  {
   "cell_type": "markdown",
   "metadata": {},
   "source": [
    "Load Sample Images"
   ]
  },
  {
   "cell_type": "code",
   "execution_count": 21,
   "metadata": {},
   "outputs": [
    {
     "data": {
      "text/html": [
       "<div>\n",
       "<style scoped>\n",
       "    .dataframe tbody tr th:only-of-type {\n",
       "        vertical-align: middle;\n",
       "    }\n",
       "\n",
       "    .dataframe tbody tr th {\n",
       "        vertical-align: top;\n",
       "    }\n",
       "\n",
       "    .dataframe thead th {\n",
       "        text-align: right;\n",
       "    }\n",
       "</style>\n",
       "<table border=\"1\" class=\"dataframe\">\n",
       "  <thead>\n",
       "    <tr style=\"text-align: right;\">\n",
       "      <th></th>\n",
       "      <th>img</th>\n",
       "      <th>Imdb Link</th>\n",
       "      <th>Title</th>\n",
       "      <th>IMDB Score</th>\n",
       "      <th>Genre</th>\n",
       "      <th>Poster</th>\n",
       "    </tr>\n",
       "    <tr>\n",
       "      <th>imdbId</th>\n",
       "      <th></th>\n",
       "      <th></th>\n",
       "      <th></th>\n",
       "      <th></th>\n",
       "      <th></th>\n",
       "      <th></th>\n",
       "    </tr>\n",
       "  </thead>\n",
       "  <tbody>\n",
       "    <tr>\n",
       "      <th>2461</th>\n",
       "      <td>[[[149, 122, 138], [157, 130, 146], [159, 133,...</td>\n",
       "      <td>http://www.imdb.com/title/tt2461</td>\n",
       "      <td>Richard III (1912)</td>\n",
       "      <td>5.7</td>\n",
       "      <td>Drama</td>\n",
       "      <td>https://images-na.ssl-images-amazon.com/images...</td>\n",
       "    </tr>\n",
       "    <tr>\n",
       "      <th>24886</th>\n",
       "      <td>[[[51, 63, 35], [72, 81, 55], [60, 58, 40], [5...</td>\n",
       "      <td>http://www.imdb.com/title/tt24886</td>\n",
       "      <td>The Big Bad Wolf (1934)</td>\n",
       "      <td>7.2</td>\n",
       "      <td>Animation|Comedy|Family</td>\n",
       "      <td>https://images-na.ssl-images-amazon.com/images...</td>\n",
       "    </tr>\n",
       "    <tr>\n",
       "      <th>17162</th>\n",
       "      <td>[[[63, 88, 228], [64, 88, 230], [62, 82, 229],...</td>\n",
       "      <td>http://www.imdb.com/title/tt17162</td>\n",
       "      <td>Moana (1926)</td>\n",
       "      <td>6.9</td>\n",
       "      <td>Documentary</td>\n",
       "      <td>https://images-na.ssl-images-amazon.com/images...</td>\n",
       "    </tr>\n",
       "    <tr>\n",
       "      <th>25239</th>\n",
       "      <td>[[[151, 215, 246], [150, 214, 245], [150, 214,...</td>\n",
       "      <td>http://www.imdb.com/title/tt25239</td>\n",
       "      <td>Here Is My Heart (1934)</td>\n",
       "      <td>7.1</td>\n",
       "      <td>Musical|Comedy</td>\n",
       "      <td>https://images-na.ssl-images-amazon.com/images...</td>\n",
       "    </tr>\n",
       "    <tr>\n",
       "      <th>21345</th>\n",
       "      <td>[[[30, 31, 27], [30, 31, 27], [30, 31, 27], [3...</td>\n",
       "      <td>http://www.imdb.com/title/tt21345</td>\n",
       "      <td>The Sea Bat (1930)</td>\n",
       "      <td>5.6</td>\n",
       "      <td>Action|Romance|Thriller</td>\n",
       "      <td>https://images-na.ssl-images-amazon.com/images...</td>\n",
       "    </tr>\n",
       "  </tbody>\n",
       "</table>\n",
       "</div>"
      ],
      "text/plain": [
       "                                                      img  \\\n",
       "imdbId                                                      \n",
       "2461    [[[149, 122, 138], [157, 130, 146], [159, 133,...   \n",
       "24886   [[[51, 63, 35], [72, 81, 55], [60, 58, 40], [5...   \n",
       "17162   [[[63, 88, 228], [64, 88, 230], [62, 82, 229],...   \n",
       "25239   [[[151, 215, 246], [150, 214, 245], [150, 214,...   \n",
       "21345   [[[30, 31, 27], [30, 31, 27], [30, 31, 27], [3...   \n",
       "\n",
       "                                Imdb Link                    Title  \\\n",
       "imdbId                                                               \n",
       "2461     http://www.imdb.com/title/tt2461       Richard III (1912)   \n",
       "24886   http://www.imdb.com/title/tt24886  The Big Bad Wolf (1934)   \n",
       "17162   http://www.imdb.com/title/tt17162             Moana (1926)   \n",
       "25239   http://www.imdb.com/title/tt25239  Here Is My Heart (1934)   \n",
       "21345   http://www.imdb.com/title/tt21345       The Sea Bat (1930)   \n",
       "\n",
       "        IMDB Score                    Genre  \\\n",
       "imdbId                                        \n",
       "2461           5.7                    Drama   \n",
       "24886          7.2  Animation|Comedy|Family   \n",
       "17162          6.9              Documentary   \n",
       "25239          7.1           Musical|Comedy   \n",
       "21345          5.6  Action|Romance|Thriller   \n",
       "\n",
       "                                                   Poster  \n",
       "imdbId                                                     \n",
       "2461    https://images-na.ssl-images-amazon.com/images...  \n",
       "24886   https://images-na.ssl-images-amazon.com/images...  \n",
       "17162   https://images-na.ssl-images-amazon.com/images...  \n",
       "25239   https://images-na.ssl-images-amazon.com/images...  \n",
       "21345   https://images-na.ssl-images-amazon.com/images...  "
      ]
     },
     "metadata": {},
     "output_type": "display_data"
    }
   ],
   "source": [
    "import os\n",
    "import cv2\n",
    "samples_folder = \"./data/SampleMoviePosters\"\n",
    "files = os.listdir(samples_folder)\n",
    "sample_images = pd.DataFrame(columns=[\"imdbId\", \"img\"])\n",
    "sample_images.set_index(\"imdbId\", inplace=True)\n",
    "for file in files:\n",
    "    id = int(file.replace(\".jpg\", \"\"))\n",
    "    img = cv2.imread(os.path.join(samples_folder, file))\n",
    "    sample_images.loc[id, \"img\"] = img\n",
    "sample_images = pd.merge(sample_images, movie_genre,\n",
    "                  left_index=True, right_on=\"imdbId\")\n",
    "display(sample_images.head())"
   ]
  },
  {
   "cell_type": "markdown",
   "metadata": {},
   "source": [
    "Download posters"
   ]
  },
  {
   "cell_type": "code",
   "execution_count": 2,
   "metadata": {},
   "outputs": [],
   "source": [
    "import os\n",
    "import urllib\n",
    "images_path = \"./data/posters/\"\n",
    "mkdir_cmd = \"mkdir -p \" + images_path\n",
    "os.system(mkdir_cmd)\n",
    "failed_downloads = []\n",
    "for poster in poster_urls.itertuples():\n",
    "    file_name = str(poster.imdbId) + \".jpg\"\n",
    "    if os.path.isfile(images_path + file_name):\n",
    "        continue\n",
    "    try:\n",
    "        resource = urllib.request.urlretrieve(\n",
    "            poster.Poster, images_path + file_name)\n",
    "    except:\n",
    "        failed_downloads.append(str(poster.Poster))\n",
    "        continue\n",
    "print(\"Failed downloads: \" + str(failed_downloads))\n",
    "if len(failed_downloads) == 0:\n",
    "    print(\"All images downloaded successfully\")\n"
   ]
  },
  {
   "cell_type": "code",
   "execution_count": 23,
   "metadata": {},
   "outputs": [
    {
     "name": "stderr",
     "output_type": "stream",
     "text": [
      "2022-05-18 21:12:15.537650: I tensorflow/stream_executor/cuda/cuda_gpu_executor.cc:961] could not open file to read NUMA node: /sys/bus/pci/devices/0000:26:00.0/numa_node\n",
      "Your kernel may have been built without NUMA support.\n",
      "2022-05-18 21:12:15.609348: I tensorflow/stream_executor/cuda/cuda_gpu_executor.cc:961] could not open file to read NUMA node: /sys/bus/pci/devices/0000:26:00.0/numa_node\n",
      "Your kernel may have been built without NUMA support.\n",
      "2022-05-18 21:12:15.609729: I tensorflow/stream_executor/cuda/cuda_gpu_executor.cc:961] could not open file to read NUMA node: /sys/bus/pci/devices/0000:26:00.0/numa_node\n",
      "Your kernel may have been built without NUMA support.\n",
      "2022-05-18 21:12:15.611335: I tensorflow/core/platform/cpu_feature_guard.cc:193] This TensorFlow binary is optimized with oneAPI Deep Neural Network Library (oneDNN) to use the following CPU instructions in performance-critical operations:  AVX2 FMA\n",
      "To enable them in other operations, rebuild TensorFlow with the appropriate compiler flags.\n",
      "2022-05-18 21:12:15.613564: I tensorflow/stream_executor/cuda/cuda_gpu_executor.cc:961] could not open file to read NUMA node: /sys/bus/pci/devices/0000:26:00.0/numa_node\n",
      "Your kernel may have been built without NUMA support.\n",
      "2022-05-18 21:12:15.614201: I tensorflow/stream_executor/cuda/cuda_gpu_executor.cc:961] could not open file to read NUMA node: /sys/bus/pci/devices/0000:26:00.0/numa_node\n",
      "Your kernel may have been built without NUMA support.\n",
      "2022-05-18 21:12:15.614865: I tensorflow/stream_executor/cuda/cuda_gpu_executor.cc:961] could not open file to read NUMA node: /sys/bus/pci/devices/0000:26:00.0/numa_node\n",
      "Your kernel may have been built without NUMA support.\n",
      "2022-05-18 21:12:16.718967: I tensorflow/stream_executor/cuda/cuda_gpu_executor.cc:961] could not open file to read NUMA node: /sys/bus/pci/devices/0000:26:00.0/numa_node\n",
      "Your kernel may have been built without NUMA support.\n",
      "2022-05-18 21:12:16.719671: I tensorflow/stream_executor/cuda/cuda_gpu_executor.cc:961] could not open file to read NUMA node: /sys/bus/pci/devices/0000:26:00.0/numa_node\n",
      "Your kernel may have been built without NUMA support.\n",
      "2022-05-18 21:12:16.719705: I tensorflow/core/common_runtime/gpu/gpu_device.cc:1616] Could not identify NUMA node of platform GPU id 0, defaulting to 0.  Your kernel may not have been built with NUMA support.\n",
      "2022-05-18 21:12:16.720190: I tensorflow/stream_executor/cuda/cuda_gpu_executor.cc:961] could not open file to read NUMA node: /sys/bus/pci/devices/0000:26:00.0/numa_node\n",
      "Your kernel may have been built without NUMA support.\n",
      "2022-05-18 21:12:16.720259: I tensorflow/core/common_runtime/gpu/gpu_device.cc:1532] Created device /job:localhost/replica:0/task:0/device:GPU:0 with 4604 MB memory:  -> device: 0, name: NVIDIA GeForce GTX 1060 6GB, pci bus id: 0000:26:00.0, compute capability: 6.1\n"
     ]
    },
    {
     "name": "stdout",
     "output_type": "stream",
     "text": [
      "Epoch 1/5\n",
      "1875/1875 [==============================] - 10s 5ms/step - loss: 0.2913 - accuracy: 0.9145\n",
      "Epoch 2/5\n",
      "1875/1875 [==============================] - 8s 4ms/step - loss: 0.1419 - accuracy: 0.9579\n",
      "Epoch 3/5\n",
      "1875/1875 [==============================] - 8s 4ms/step - loss: 0.1076 - accuracy: 0.9675\n",
      "Epoch 4/5\n",
      "1875/1875 [==============================] - 10s 5ms/step - loss: 0.0881 - accuracy: 0.9725\n",
      "Epoch 5/5\n",
      "1875/1875 [==============================] - 8s 4ms/step - loss: 0.0758 - accuracy: 0.9761\n",
      "313/313 [==============================] - 1s 4ms/step - loss: 0.0743 - accuracy: 0.9791\n"
     ]
    },
    {
     "data": {
      "text/plain": [
       "[0.07427120953798294, 0.9790999889373779]"
      ]
     },
     "execution_count": 23,
     "metadata": {},
     "output_type": "execute_result"
    }
   ],
   "source": [
    "import tensorflow as tf\n",
    "mnist = tf.keras.datasets.mnist\n",
    "\n",
    "(x_train, y_train), (x_test, y_test) = mnist.load_data()\n",
    "x_train, x_test = x_train / 255.0, x_test / 255.0\n",
    "\n",
    "model = tf.keras.models.Sequential([\n",
    "    tf.keras.layers.Flatten(input_shape=(28, 28)),\n",
    "    tf.keras.layers.Dense(128, activation='relu'),\n",
    "    tf.keras.layers.Dropout(0.2),\n",
    "    tf.keras.layers.Dense(10, activation='softmax')\n",
    "])\n",
    "\n",
    "model.compile(optimizer='adam',\n",
    "              loss='sparse_categorical_crossentropy',\n",
    "              metrics=['accuracy'])\n",
    "\n",
    "model.fit(x_train, y_train, epochs=5)\n",
    "model.evaluate(x_test, y_test)\n"
   ]
  },
  {
   "cell_type": "markdown",
   "metadata": {},
   "source": [
    "Persist Model"
   ]
  },
  {
   "cell_type": "code",
   "execution_count": 25,
   "metadata": {},
   "outputs": [
    {
     "name": "stdout",
     "output_type": "stream",
     "text": [
      "INFO:tensorflow:Assets written to: ./data/model/assets\n"
     ]
    }
   ],
   "source": [
    "model.save(\"./data/model\")"
   ]
  },
  {
   "cell_type": "markdown",
   "metadata": {},
   "source": [
    "Load Model"
   ]
  },
  {
   "cell_type": "code",
   "execution_count": 27,
   "metadata": {},
   "outputs": [
    {
     "name": "stdout",
     "output_type": "stream",
     "text": [
      "Model: \"sequential\"\n",
      "_________________________________________________________________\n",
      " Layer (type)                Output Shape              Param #   \n",
      "=================================================================\n",
      " flatten (Flatten)           (None, 784)               0         \n",
      "                                                                 \n",
      " dense (Dense)               (None, 128)               100480    \n",
      "                                                                 \n",
      " dropout (Dropout)           (None, 128)               0         \n",
      "                                                                 \n",
      " dense_1 (Dense)             (None, 10)                1290      \n",
      "                                                                 \n",
      "=================================================================\n",
      "Total params: 101,770\n",
      "Trainable params: 101,770\n",
      "Non-trainable params: 0\n",
      "_________________________________________________________________\n"
     ]
    }
   ],
   "source": [
    "model = tf.keras.models.load_model('./data/model')"
   ]
  },
  {
   "cell_type": "code",
   "execution_count": null,
   "metadata": {},
   "outputs": [],
   "source": []
  }
 ],
 "metadata": {
  "interpreter": {
   "hash": "e535dff822bbfad958fc501bc24b0904ebfa4afeaf590caddba64e3bf49731e3"
  },
  "kernelspec": {
   "display_name": "Python 3.8.10 ('env': venv)",
   "language": "python",
   "name": "python3"
  },
  "language_info": {
   "codemirror_mode": {
    "name": "ipython",
    "version": 3
   },
   "file_extension": ".py",
   "mimetype": "text/x-python",
   "name": "python",
   "nbconvert_exporter": "python",
   "pygments_lexer": "ipython3",
   "version": "3.8.10"
  },
  "orig_nbformat": 4
 },
 "nbformat": 4,
 "nbformat_minor": 2
}
