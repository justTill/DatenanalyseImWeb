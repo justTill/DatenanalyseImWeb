{
 "cells": [
  {
   "cell_type": "markdown",
   "metadata": {},
   "source": [
    "Import Genre data from CSV"
   ]
  },
  {
   "cell_type": "code",
   "execution_count": 1,
   "metadata": {},
   "outputs": [],
   "source": [
    "import pandas as pd\n",
    "movie_genre = pd.read_csv(\"./data/MovieGenre.csv\",\n",
    "                          sep=\",\", encoding='unicode_escape')\n",
    "\n",
    "poster_urls = movie_genre[[\"imdbId\", 'Poster']]\n"
   ]
  },
  {
   "cell_type": "markdown",
   "metadata": {},
   "source": [
    "Download posters"
   ]
  },
  {
   "cell_type": "code",
   "execution_count": 2,
   "metadata": {},
   "outputs": [],
   "source": [
    "import os\n",
    "import urllib\n",
    "images_path = \"./data/posters/\"\n",
    "mkdir_cmd = \"mkdir -p \" + images_path\n",
    "os.system(mkdir_cmd)\n",
    "failed_downloads = []\n",
    "for poster in poster_urls.itertuples():\n",
    "    file_name = str(poster.imdbId) + \".jpg\"\n",
    "    if os.path.isfile(images_path + file_name):\n",
    "        continue\n",
    "    try:\n",
    "        resource = urllib.request.urlretrieve(\n",
    "            poster.Poster, images_path + file_name)\n",
    "    except:\n",
    "        failed_downloads.append(str(poster.Poster))\n",
    "        continue\n",
    "print(\"Failed downloads: \" + str(failed_downloads))\n",
    "if len(failed_downloads) == 0:\n",
    "    print(\"All images downloaded successfully\")\n"
   ]
  },
  {
   "cell_type": "code",
   "execution_count": null,
   "metadata": {},
   "outputs": [],
   "source": []
  }
 ],
 "metadata": {
  "interpreter": {
   "hash": "e535dff822bbfad958fc501bc24b0904ebfa4afeaf590caddba64e3bf49731e3"
  },
  "kernelspec": {
   "display_name": "Python 3.8.10 ('env': venv)",
   "language": "python",
   "name": "python3"
  },
  "language_info": {
   "codemirror_mode": {
    "name": "ipython",
    "version": 3
   },
   "file_extension": ".py",
   "mimetype": "text/x-python",
   "name": "python",
   "nbconvert_exporter": "python",
   "pygments_lexer": "ipython3",
   "version": "3.8.10"
  },
  "orig_nbformat": 4
 },
 "nbformat": 4,
 "nbformat_minor": 2
}
